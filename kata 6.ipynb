{
 "cells": [
  {
   "cell_type": "code",
   "execution_count": 22,
   "metadata": {},
   "outputs": [
    {
     "name": "stdout",
     "output_type": "stream",
     "text": [
      "estos son 8 planetas\n"
     ]
    }
   ],
   "source": [
    "planetas = ['Mercurio', 'Venus', 'tierra', 'Marte', 'Jupiter', 'Saturno', 'Urano', 'Neptuno']\n",
    "print('estos son', len(planetas), 'planetas')"
   ]
  },
  {
   "cell_type": "code",
   "execution_count": 23,
   "metadata": {},
   "outputs": [
    {
     "name": "stdout",
     "output_type": "stream",
     "text": [
      "Pluto es el ultimo planeta descubierto\n"
     ]
    }
   ],
   "source": [
    "planetas.append('Pluto')\n",
    "\n",
    "print(planetas[-1], 'es el ultimo planeta descubierto')"
   ]
  },
  {
   "cell_type": "code",
   "execution_count": 24,
   "metadata": {},
   "outputs": [],
   "source": [
    "planetas = ['Mercurio', 'Venus', 'tierra', 'Marte', 'Jupiter', 'Saturno', 'Urano', 'Neptuno']\n"
   ]
  },
  {
   "cell_type": "code",
   "execution_count": 25,
   "metadata": {},
   "outputs": [],
   "source": [
    "planeta_del_usuario = input('Porfavor introdusca el nombre del planeta con su respectiva mayuscula')"
   ]
  },
  {
   "cell_type": "code",
   "execution_count": 26,
   "metadata": {},
   "outputs": [
    {
     "ename": "ValueError",
     "evalue": "'' is not in list",
     "output_type": "error",
     "traceback": [
      "\u001b[1;31m---------------------------------------------------------------------------\u001b[0m",
      "\u001b[1;31mValueError\u001b[0m                                Traceback (most recent call last)",
      "Input \u001b[1;32mIn [26]\u001b[0m, in \u001b[0;36m<module>\u001b[1;34m\u001b[0m\n\u001b[1;32m----> 1\u001b[0m planet_index \u001b[39m=\u001b[39m planetas\u001b[39m.\u001b[39;49mindex(planeta_del_usuario)\n",
      "\u001b[1;31mValueError\u001b[0m: '' is not in list"
     ]
    }
   ],
   "source": [
    "planet_index = planetas.index(planeta_del_usuario)"
   ]
  },
  {
   "cell_type": "code",
   "execution_count": 27,
   "metadata": {},
   "outputs": [
    {
     "name": "stdout",
     "output_type": "stream",
     "text": [
      "Here are the planets closer than \n"
     ]
    },
    {
     "ename": "TypeError",
     "evalue": "slice indices must be integers or None or have an __index__ method",
     "output_type": "error",
     "traceback": [
      "\u001b[1;31m---------------------------------------------------------------------------\u001b[0m",
      "\u001b[1;31mTypeError\u001b[0m                                 Traceback (most recent call last)",
      "Input \u001b[1;32mIn [27]\u001b[0m, in \u001b[0;36m<module>\u001b[1;34m\u001b[0m\n\u001b[0;32m      1\u001b[0m \u001b[39mprint\u001b[39m(\u001b[39m'\u001b[39m\u001b[39mHere are the planets closer than \u001b[39m\u001b[39m'\u001b[39m \u001b[39m+\u001b[39m planeta_del_usuario)\n\u001b[1;32m----> 2\u001b[0m \u001b[39mprint\u001b[39m(planetas[\u001b[39m0\u001b[39;49m:planetas])\n",
      "\u001b[1;31mTypeError\u001b[0m: slice indices must be integers or None or have an __index__ method"
     ]
    }
   ],
   "source": [
    "print('Here are the planets closer than ' + planeta_del_usuario)\n",
    "print(planetas[0:planetas])"
   ]
  }
 ],
 "metadata": {
  "interpreter": {
   "hash": "08ebbd35721cb436502ef145d6321979f41333b8da2165cdb98fe5045cb1a608"
  },
  "kernelspec": {
   "display_name": "Python 3.10.2 64-bit",
   "language": "python",
   "name": "python3"
  },
  "language_info": {
   "codemirror_mode": {
    "name": "ipython",
    "version": 3
   },
   "file_extension": ".py",
   "mimetype": "text/x-python",
   "name": "python",
   "nbconvert_exporter": "python",
   "pygments_lexer": "ipython3",
   "version": "3.10.2"
  },
  "orig_nbformat": 4
 },
 "nbformat": 4,
 "nbformat_minor": 2
}
