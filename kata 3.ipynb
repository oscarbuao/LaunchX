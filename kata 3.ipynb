{
 "cells": [
  {
   "cell_type": "code",
   "execution_count": 2,
   "metadata": {},
   "outputs": [
    {
     "name": "stdout",
     "output_type": "stream",
     "text": [
      "no existen coincidencias\n"
     ]
    }
   ],
   "source": [
    "# Ejercicio: escribir declaraciones.\n",
    "a = \"color\"\n",
    "b = \"colores\"\n",
    "if a != b:\n",
    "    print (\"no existen coincidencias\")"
   ]
  },
  {
   "cell_type": "code",
   "execution_count": 65,
   "metadata": {},
   "outputs": [
    {
     "name": "stdout",
     "output_type": "stream",
     "text": [
      "pero aun asi tambien te gusta el hiphop\n"
     ]
    }
   ],
   "source": [
    "#escribe cuantas canciones tienes en tu playlist\n",
    "a = 432234234\n",
    "b = 40765\n",
    "c = 12342354365\n",
    "if a > b:\n",
    "    if a > c:\n",
    "        print (\"escuchas mas reggeaton\")\n",
    "    else: \n",
    "        print (\"pero aun asi tambien te gusta el hiphop\")\n",
    "elif a == b:\n",
    "    print (\"Animo, consigue esos boletos\")\n",
    "else:\n",
    "    print (\"puedes bailar el genero que sea\")"
   ]
  },
  {
   "cell_type": "code",
   "execution_count": 12,
   "metadata": {},
   "outputs": [
    {
     "name": "stdout",
     "output_type": "stream",
     "text": [
      "cuidado, asteroide acercandose a mayor velocidad\n"
     ]
    }
   ],
   "source": [
    "asteroide = 49\n",
    "if asteroide > 25 :\n",
    "    print ( \"cuidado, asteroide acercandose a mayor velocidad\")\n",
    "else:\n",
    "    print (\"valores no alarmantes\")"
   ]
  },
  {
   "cell_type": "code",
   "execution_count": 27,
   "metadata": {},
   "outputs": [
    {
     "name": "stdout",
     "output_type": "stream",
     "text": [
      "tendremos una noche muy clara, pero sin cometas\n"
     ]
    }
   ],
   "source": [
    "tamaño_del_asteroide = 19\n",
    "if tamaño_del_asteroide > 20:\n",
    "    print (\"preparate para ver un posible cometa\")\n",
    "elif tamaño_del_asteroide ==20:\n",
    "    print (\"preparate para una estrella fugas\")\n",
    "else: \n",
    "    print (\"tendremos una noche muy clara, pero sin cometas\")"
   ]
  },
  {
   "cell_type": "code",
   "execution_count": 62,
   "metadata": {},
   "outputs": [
    {
     "name": "stdout",
     "output_type": "stream",
     "text": [
      "disfrusta este siguiente cometa\n"
     ]
    }
   ],
   "source": [
    "velocidad_del_asteroide = 25\n",
    "tamaño_del_asteroide = 24\n",
    "if velocidad_del_asteroide > 25 and tamaño_del_asteroide > 25:\n",
    "    print(\"peligro, impacto de meteorito de gran tamaño\")\n",
    "elif velocidad_del_asteroide >= 20:\n",
    "    print(\"disfrusta este siguiente cometa\")\n",
    "elif tamaño_del_asteroide < 25:\n",
    "    print(\"cielo despejado\")\n",
    "else:\n",
    "    print(\"cielo despejado\")"
   ]
  }
 ],
 "metadata": {
  "interpreter": {
   "hash": "08ebbd35721cb436502ef145d6321979f41333b8da2165cdb98fe5045cb1a608"
  },
  "kernelspec": {
   "display_name": "Python 3.10.2 64-bit",
   "language": "python",
   "name": "python3"
  },
  "language_info": {
   "codemirror_mode": {
    "name": "ipython",
    "version": 3
   },
   "file_extension": ".py",
   "mimetype": "text/x-python",
   "name": "python",
   "nbconvert_exporter": "python",
   "pygments_lexer": "ipython3",
   "version": "3.10.2"
  },
  "orig_nbformat": 4
 },
 "nbformat": 4,
 "nbformat_minor": 2
}
